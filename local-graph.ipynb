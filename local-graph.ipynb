{
 "cells": [
  {
   "cell_type": "code",
   "execution_count": null,
   "id": "61515b31",
   "metadata": {},
   "outputs": [
    {
     "name": "stdout",
     "output_type": "stream",
     "text": [
      "No file 'logs/1-agents/heatmap-0.json'\n",
      "No file 'logs/1-agents/heatmap-1.json'\n",
      "No file 'logs/1-agents/heatmap-2.json'\n",
      "No file 'logs/1-agents/heatmap-3.json'\n",
      "No file 'logs/1-agents/heatmap-4.json'\n",
      "No file 'logs/1-agents/heatmap-5.json'\n",
      "No file 'logs/1-agents/heatmap-6.json'\n",
      "No file 'logs/1-agents/heatmap-7.json'\n",
      "No file 'logs/1-agents/heatmap-8.json'\n",
      "No file 'logs/1-agents/heatmap-9.json'\n",
      "No file 'logs/2-agents/heatmap-0.json'\n",
      "No file 'logs/2-agents/heatmap-1.json'\n",
      "No file 'logs/2-agents/heatmap-2.json'\n",
      "No file 'logs/2-agents/heatmap-3.json'\n",
      "No file 'logs/2-agents/heatmap-4.json'\n",
      "No file 'logs/2-agents/heatmap-5.json'\n",
      "No file 'logs/2-agents/heatmap-6.json'\n",
      "No file 'logs/2-agents/heatmap-7.json'\n",
      "No file 'logs/2-agents/heatmap-8.json'\n",
      "No file 'logs/2-agents/heatmap-9.json'\n",
      "No file 'logs/3-agents/heatmap-0.json'\n",
      "No file 'logs/3-agents/heatmap-1.json'\n",
      "No file 'logs/3-agents/heatmap-2.json'\n",
      "No file 'logs/3-agents/heatmap-3.json'\n",
      "No file 'logs/3-agents/heatmap-4.json'\n",
      "No file 'logs/3-agents/heatmap-5.json'\n",
      "No file 'logs/3-agents/heatmap-6.json'\n",
      "No file 'logs/3-agents/heatmap-7.json'\n",
      "No file 'logs/3-agents/heatmap-8.json'\n",
      "No file 'logs/3-agents/heatmap-9.json'\n",
      "No file 'logs/4-agents/heatmap-0.json'\n",
      "No file 'logs/4-agents/heatmap-1.json'\n",
      "No file 'logs/4-agents/heatmap-2.json'\n",
      "No file 'logs/4-agents/heatmap-3.json'\n",
      "No file 'logs/4-agents/heatmap-4.json'\n",
      "No file 'logs/4-agents/heatmap-5.json'\n",
      "No file 'logs/4-agents/heatmap-6.json'\n",
      "No file 'logs/4-agents/heatmap-7.json'\n",
      "No file 'logs/4-agents/heatmap-8.json'\n",
      "No file 'logs/4-agents/heatmap-9.json'\n"
     ]
    },
    {
     "data": {
      "image/png": "[encoded data removed]",
      "text/plain": [
       "<Figure size 640x480 with 5 Axes>"
      ]
     },
     "metadata": {},
     "output_type": "display_data"
    }
   ],
   "source": [
    "import json\n",
    "import numpy as np\n",
    "import seaborn as sns\n",
    "import matplotlib.pyplot as plt\n",
    "from matplotlib.axes import Axes\n",
    "from lle import World\n",
    "\n",
    "fig, axes = plt.subplots(2, 2)\n",
    "world = World.from_file(\"maps/subgraph-1agents.toml\")\n",
    "for agent in range(1, 5):\n",
    "    res = np.zeros((world.height, world.width), dtype=np.float32)\n",
    "    filename = f\"experiments/results/{agent}-agents/heatmap-{i}.json\"\n",
    "\n",
    "    try:\n",
    "        with open(filename, \"r\") as f:\n",
    "            heatmap = np.array(json.load(f))\n",
    "        if res is None:\n",
    "            res = heatmap\n",
    "        else:\n",
    "            res += heatmap\n",
    "    except FileNotFoundError:\n",
    "        print(f\"No file '{filename}'\")\n",
    "    line = (agent -1)// 2\n",
    "    col = (agent-1) % 2\n",
    "    # Without x and y ticks\n",
    "    axis: Axes = axes[line, col]\n",
    "    axis = sns.heatmap(res, ax=axis, cbar=False, xticklabels=False, yticklabels=False, cmap=\"viridis\")\n",
    "\n",
    "cbar = fig.colorbar(None, ax=axes.ravel().tolist())\n",
    "cbar.set_ticks([0, 0.5, 1])\n",
    "cbar.set_ticklabels([\"Low\", \"Medium\", \"High\"])"
   ]
  },
  {
   "cell_type": "code",
   "execution_count": 47,
   "id": "afd75726",
   "metadata": {},
   "outputs": [
    {
     "data": {
      "image/png": "[encoded data removed]",
      "text/plain": [
       "<Figure size 640x480 with 1 Axes>"
      ]
     },
     "metadata": {},
     "output_type": "display_data"
    }
   ],
   "source": [
    "import matplotlib.pyplot as plt\n",
    "import matplotlib as mpl\n",
    "\n",
    "fig = plt.figure()\n",
    "ax = fig.add_axes([0.85, 0.10, 0.05, 0.8])\n",
    "\n",
    "cb = mpl.colorbar.ColorbarBase(ax, orientation=\"vertical\", cmap=\"viridis\", ticks=[0, 0.5, 1])\n",
    "cb.set_ticks([0, 0.5, 1])  # Positions: start, middle, end of the colorbar\n",
    "cb.set_ticklabels([\"Low\", \"Medium\", \"High\"])\n",
    "\n",
    "plt.savefig(\"just_colorbar.svg\", bbox_inches=\"tight\")\n"
   ]
  },
  {
   "cell_type": "code",
   "execution_count": 1,
   "id": "b01bcb73-340d-42ec-98c4-5f6ca2002f47",
   "metadata": {},
   "outputs": [],
   "source": [
    "from lle import LLE, WorldState, Action, World\n",
    "from lle.exceptions import InvalidWorldStateError\n",
    "import marlenv\n",
    "import marl\n",
    "import matplotlib.pyplot as plt\n",
    "from marl.other.local_graph import LocalGraphTrainer, LocalGraphBottleneckFinder\n",
    "import numpy as np\n",
    "import networkx as nx\n",
    "\n",
    "def state2array(state: WorldState, world: World) -> np.ndarray:\n",
    "    array = state.as_array()\n",
    "    array[0] = array[0] / world.height\n",
    "    array[1] = array[1] / world.width\n",
    "    return array\n",
    "\n",
    "\n",
    "def state_hash(state: WorldState, world: World):\n",
    "    arr_state = state2array(state, world)\n",
    "    return hash(arr_state.data.tobytes())\n"
   ]
  },
  {
   "cell_type": "code",
   "execution_count": 2,
   "id": "dff87ca0",
   "metadata": {},
   "outputs": [
    {
     "name": "stdout",
     "output_type": "stream",
     "text": [
      "False\n"
     ]
    }
   ],
   "source": [
    "env = LLE.from_file(\"maps/subgraph-1agent.toml\").obs_type(\"layered\").single_objective()\n",
    "print(env.is_multi_objective)\n",
    "world = env.world\n",
    "# env = LLE.level(6).obs_type(\"state\").single_objective()\n",
    "masked_actions = np.full((1, 5), True)\n",
    "masked_actions[0, Action.STAY.value] = False\n",
    "env = marlenv.Builder(env).mask_actions(masked_actions).build()\n",
    "\n",
    "\n",
    "qnetwork = marl.nn.model_bank.CNN.from_env(env)\n",
    "policy = marl.policy.EpsilonGreedy.linear(1.0, 0.05, 100_000)\n",
    "algo = marl.algo.DQN(qnetwork, policy, marl.policy.ArgMax())\n",
    "dqn_trainer = marl.training.DQNTrainer(\n",
    "    qnetwork,\n",
    "    policy,\n",
    "    marl.models.TransitionMemory(10_000),\n",
    "    mixer=marl.algo.VDN.from_env(env),\n",
    "    lr=1e-4,\n",
    "    gamma=0.95,\n",
    "    train_interval=(100, \"step\"),\n",
    ")"
   ]
  },
  {
   "cell_type": "code",
   "execution_count": 3,
   "id": "fad861a7",
   "metadata": {},
   "outputs": [],
   "source": [
    "from collections import defaultdict\n",
    "\n",
    "def get_bottlenecks_stats(finder: LocalGraphBottleneckFinder):\n",
    "    graph = nx.Graph()\n",
    "    vertex_positions = dict()\n",
    "    bottleneck_probs = dict[tuple[tuple[int, int],tuple[int, int]], float]()\n",
    "    hit_count = defaultdict(int)\n",
    "    apparition_counts = defaultdict(int)\n",
    "\n",
    "    for i in range(world.height):\n",
    "        for j in range(world.width):\n",
    "            from_state = WorldState([(i, j)], [], [True])\n",
    "            vertex_positions[from_state.agents_positions[0]] = (j, i)\n",
    "            try:\n",
    "                world.set_state(from_state)\n",
    "                for action in world.available_joint_actions():\n",
    "                    if action == [Action.STAY]:\n",
    "                        continue\n",
    "                    world.set_state(from_state)\n",
    "                    world.step(action)\n",
    "                    new_state = world.get_state()\n",
    "                    edge = (state_hash(from_state, world), state_hash(new_state, world))\n",
    "\n",
    "                    graph.add_edge(from_state.agents_positions[0], new_state.agents_positions[0])\n",
    "                    hit_count[i, j] += finder.hit_count.get(edge, 0)\n",
    "                    apparition_counts[i, j] += finder.apparition_count.get(edge, 0)\n",
    "                    bottleneck_probability = finder.predict(edge)\n",
    "                    if bottleneck_probability > 0:\n",
    "                        bottleneck_probs[from_state.agents_positions[0], new_state.agents_positions[0]] = bottleneck_probability\n",
    "            except InvalidWorldStateError:\n",
    "                pass\n",
    "    return graph, vertex_positions, bottleneck_probs\n",
    "\n",
    "def show_bottlenecks(graph, vertex_positions: dict, bottleneck_probs: dict[tuple, float]):\n",
    "    plt.figure(figsize=(15, 10))\n",
    "    nx.draw_networkx_nodes(graph, pos=vertex_positions, label=False, node_size=100)\n",
    "    nx.draw_networkx_edges(graph, pos=vertex_positions)\n",
    "    nx.draw_networkx_edge_labels(graph, pos=vertex_positions, edge_labels={k: f\"{v:.3f}\" for k, v in bottleneck_probs.items()})\n",
    "    #plt.tick_params(left=True, bottom=True, labelleft=True, labelbottom=True)\n",
    "    # plt.tick_params(left=False, bottom=False, labelleft=False, labelbottom=False)\n",
    "    plt.axis(\"off\")\n",
    "    plt.tight_layout()\n",
    "    plt.savefig(\"bottlenecks.svg\")\n",
    "    plt.show()"
   ]
  },
  {
   "cell_type": "code",
   "execution_count": 4,
   "id": "334d99cf",
   "metadata": {},
   "outputs": [
    {
     "name": "stdout",
     "output_type": "stream",
     "text": [
      "Experiment 1/10\n"
     ]
    },
    {
     "name": "stderr",
     "output_type": "stream",
     "text": [
      "Testing: 100%|██████████| 1/1 [00:00<00:00, 26.08Episode/s]\n",
      "Training:   2%|▏         | 2144/100000 [00:00<00:07, 13057.05Step/s]"
     ]
    },
    {
     "name": "stdout",
     "output_type": "stream",
     "text": [
      "        0 Average score: 2.0\n"
     ]
    },
    {
     "name": "stderr",
     "output_type": "stream",
     "text": [
      "Training: 100%|██████████| 100000/100000 [00:04<00:00, 22987.22Step/s]\n"
     ]
    },
    {
     "name": "stdout",
     "output_type": "stream",
     "text": [
      "Experiment 2/10\n"
     ]
    },
    {
     "name": "stderr",
     "output_type": "stream",
     "text": [
      "Testing: 100%|██████████| 1/1 [00:00<00:00, 31.54Episode/s]\n",
      "Training:   2%|▏         | 2333/100000 [00:00<00:05, 17189.35Step/s]"
     ]
    },
    {
     "name": "stdout",
     "output_type": "stream",
     "text": [
      "        0 Average score: 2.0\n"
     ]
    },
    {
     "name": "stderr",
     "output_type": "stream",
     "text": [
      "Training: 100%|██████████| 100000/100000 [00:04<00:00, 22854.38Step/s]\n"
     ]
    },
    {
     "name": "stdout",
     "output_type": "stream",
     "text": [
      "Experiment 3/10\n"
     ]
    },
    {
     "name": "stderr",
     "output_type": "stream",
     "text": [
      "Testing: 100%|██████████| 1/1 [00:00<00:00, 22.19Episode/s]\n",
      "Training:   2%|▏         | 1810/100000 [00:00<00:07, 13195.69Step/s]"
     ]
    },
    {
     "name": "stdout",
     "output_type": "stream",
     "text": [
      "        0 Average score: 2.0\n"
     ]
    },
    {
     "name": "stderr",
     "output_type": "stream",
     "text": [
      "Training: 100%|██████████| 100000/100000 [00:04<00:00, 23663.28Step/s]\n"
     ]
    },
    {
     "name": "stdout",
     "output_type": "stream",
     "text": [
      "Experiment 4/10\n"
     ]
    },
    {
     "name": "stderr",
     "output_type": "stream",
     "text": [
      "Testing: 100%|██████████| 1/1 [00:00<00:00, 14.67Episode/s]\n",
      "Training:   1%|          | 733/100000 [00:00<00:17, 5806.87Step/s]"
     ]
    },
    {
     "name": "stdout",
     "output_type": "stream",
     "text": [
      "        0 Average score: 2.0\n"
     ]
    },
    {
     "name": "stderr",
     "output_type": "stream",
     "text": [
      "Training: 100%|██████████| 100000/100000 [00:04<00:00, 22209.07Step/s]\n"
     ]
    },
    {
     "name": "stdout",
     "output_type": "stream",
     "text": [
      "Experiment 5/10\n"
     ]
    },
    {
     "name": "stderr",
     "output_type": "stream",
     "text": [
      "Testing: 100%|██████████| 1/1 [00:00<00:00, 26.35Episode/s]\n",
      "Training:   3%|▎         | 2746/100000 [00:00<00:05, 17195.34Step/s]"
     ]
    },
    {
     "name": "stdout",
     "output_type": "stream",
     "text": [
      "        0 Average score: 2.0\n"
     ]
    },
    {
     "name": "stderr",
     "output_type": "stream",
     "text": [
      "Training: 100%|██████████| 100000/100000 [00:04<00:00, 22518.72Step/s]\n"
     ]
    },
    {
     "name": "stdout",
     "output_type": "stream",
     "text": [
      "Experiment 6/10\n"
     ]
    },
    {
     "name": "stderr",
     "output_type": "stream",
     "text": [
      "Testing: 100%|██████████| 1/1 [00:00<00:00, 77.44Episode/s]\n",
      "Training:   3%|▎         | 2755/100000 [00:00<00:05, 16446.17Step/s]"
     ]
    },
    {
     "name": "stdout",
     "output_type": "stream",
     "text": [
      "        0 Average score: 2.0\n"
     ]
    },
    {
     "name": "stderr",
     "output_type": "stream",
     "text": [
      "Training: 100%|██████████| 100000/100000 [00:04<00:00, 21744.88Step/s]\n"
     ]
    },
    {
     "name": "stdout",
     "output_type": "stream",
     "text": [
      "Experiment 7/10\n"
     ]
    },
    {
     "name": "stderr",
     "output_type": "stream",
     "text": [
      "Testing: 100%|██████████| 1/1 [00:00<00:00, 34.91Episode/s]\n",
      "Training:   1%|          | 1244/100000 [00:00<00:07, 12367.53Step/s]"
     ]
    },
    {
     "name": "stdout",
     "output_type": "stream",
     "text": [
      "        0 Average score: 2.0\n"
     ]
    },
    {
     "name": "stderr",
     "output_type": "stream",
     "text": [
      "Training: 100%|█████████▉| 99537/100000 [00:04<00:00, 23841.40Step/s]"
     ]
    },
    {
     "ename": "NetworkXError",
     "evalue": "Graph has no nodes or edges",
     "output_type": "error",
     "traceback": [
      "\u001b[0;31m---------------------------------------------------------------------------\u001b[0m",
      "\u001b[0;31mNetworkXError\u001b[0m                             Traceback (most recent call last)",
      "Cell \u001b[0;32mIn[4], line 8\u001b[0m\n\u001b[1;32m      6\u001b[0m exp \u001b[38;5;241m=\u001b[39m marl\u001b[38;5;241m.\u001b[39mExperiment\u001b[38;5;241m.\u001b[39mcreate(logdir\u001b[38;5;241m=\u001b[39m\u001b[38;5;124m\"\u001b[39m\u001b[38;5;124mlogs/test\u001b[39m\u001b[38;5;124m\"\u001b[39m, trainer\u001b[38;5;241m=\u001b[39mtrainer, n_steps\u001b[38;5;241m=\u001b[39m\u001b[38;5;241m100_000\u001b[39m, test_interval\u001b[38;5;241m=\u001b[39m\u001b[38;5;241m0\u001b[39m, env\u001b[38;5;241m=\u001b[39menv)\n\u001b[1;32m      7\u001b[0m \u001b[38;5;28mprint\u001b[39m(\u001b[38;5;124mf\u001b[39m\u001b[38;5;124m\"\u001b[39m\u001b[38;5;124mExperiment \u001b[39m\u001b[38;5;132;01m{\u001b[39;00mseed\u001b[38;5;250m \u001b[39m\u001b[38;5;241m+\u001b[39m\u001b[38;5;250m \u001b[39m\u001b[38;5;241m1\u001b[39m\u001b[38;5;132;01m}\u001b[39;00m\u001b[38;5;124m/\u001b[39m\u001b[38;5;132;01m{\u001b[39;00mN_EXPERIMENTS\u001b[38;5;132;01m}\u001b[39;00m\u001b[38;5;124m\"\u001b[39m)\n\u001b[0;32m----> 8\u001b[0m \u001b[43mexp\u001b[49m\u001b[38;5;241;43m.\u001b[39;49m\u001b[43mrun\u001b[49m\u001b[43m(\u001b[49m\u001b[43mseed\u001b[49m\u001b[43m)\u001b[49m\n\u001b[1;32m      9\u001b[0m graph, vertex_positions, bottleneck_probs \u001b[38;5;241m=\u001b[39m get_bottlenecks_stats(finder)\n\u001b[1;32m     10\u001b[0m \u001b[38;5;28;01mfor\u001b[39;00m edge, prob \u001b[38;5;129;01min\u001b[39;00m bottleneck_probs\u001b[38;5;241m.\u001b[39mitems():\n",
      "File \u001b[0;32m~/projects/python/marl/src/marl/models/experiment.py:203\u001b[0m, in \u001b[0;36mExperiment.run\u001b[0;34m(self, seed, fill_strategy, required_memory_MB, quiet, device, n_tests)\u001b[0m\n\u001b[1;32m    201\u001b[0m \u001b[38;5;250m\u001b[39m\u001b[38;5;124;03m\"\"\"Train the RLAlgo on the environment according to the experiment parameters.\"\"\"\u001b[39;00m\n\u001b[1;32m    202\u001b[0m runner \u001b[38;5;241m=\u001b[39m \u001b[38;5;28mself\u001b[39m\u001b[38;5;241m.\u001b[39mcreate_runner()\u001b[38;5;241m.\u001b[39mto(get_device(device, fill_strategy, required_memory_MB))\n\u001b[0;32m--> 203\u001b[0m \u001b[43mrunner\u001b[49m\u001b[38;5;241;43m.\u001b[39;49m\u001b[43mrun\u001b[49m\u001b[43m(\u001b[49m\n\u001b[1;32m    204\u001b[0m \u001b[43m    \u001b[49m\u001b[38;5;28;43mself\u001b[39;49m\u001b[38;5;241;43m.\u001b[39;49m\u001b[43mlogdir\u001b[49m\u001b[43m,\u001b[49m\n\u001b[1;32m    205\u001b[0m \u001b[43m    \u001b[49m\u001b[43mseed\u001b[49m\u001b[38;5;241;43m=\u001b[39;49m\u001b[43mseed\u001b[49m\u001b[43m,\u001b[49m\n\u001b[1;32m    206\u001b[0m \u001b[43m    \u001b[49m\u001b[43mn_tests\u001b[49m\u001b[38;5;241;43m=\u001b[39;49m\u001b[43mn_tests\u001b[49m\u001b[43m,\u001b[49m\n\u001b[1;32m    207\u001b[0m \u001b[43m    \u001b[49m\u001b[43mquiet\u001b[49m\u001b[38;5;241;43m=\u001b[39;49m\u001b[43mquiet\u001b[49m\u001b[43m,\u001b[49m\n\u001b[1;32m    208\u001b[0m \u001b[43m    \u001b[49m\u001b[43mn_steps\u001b[49m\u001b[38;5;241;43m=\u001b[39;49m\u001b[38;5;28;43mself\u001b[39;49m\u001b[38;5;241;43m.\u001b[39;49m\u001b[43mn_steps\u001b[49m\u001b[43m,\u001b[49m\n\u001b[1;32m    209\u001b[0m \u001b[43m    \u001b[49m\u001b[43mtest_interval\u001b[49m\u001b[38;5;241;43m=\u001b[39;49m\u001b[38;5;28;43mself\u001b[39;49m\u001b[38;5;241;43m.\u001b[39;49m\u001b[43mtest_interval\u001b[49m\u001b[43m,\u001b[49m\n\u001b[1;32m    210\u001b[0m \u001b[43m\u001b[49m\u001b[43m)\u001b[49m\n",
      "File \u001b[0;32m~/projects/python/marl/src/marl/models/runner.py:80\u001b[0m, in \u001b[0;36mRunner.run\u001b[0;34m(self, logdir, seed, n_tests, n_steps, test_interval, quiet)\u001b[0m\n\u001b[1;32m     78\u001b[0m \u001b[38;5;28mself\u001b[39m\u001b[38;5;241m.\u001b[39mtest(n_tests, \u001b[38;5;241m0\u001b[39m, quiet, run)\n\u001b[1;32m     79\u001b[0m \u001b[38;5;28;01mwhile\u001b[39;00m step \u001b[38;5;241m<\u001b[39m max_step:\n\u001b[0;32m---> 80\u001b[0m     episode \u001b[38;5;241m=\u001b[39m \u001b[38;5;28;43mself\u001b[39;49m\u001b[38;5;241;43m.\u001b[39;49m\u001b[43m_train_episode\u001b[49m\u001b[43m(\u001b[49m\n\u001b[1;32m     81\u001b[0m \u001b[43m        \u001b[49m\u001b[43mstep_num\u001b[49m\u001b[38;5;241;43m=\u001b[39;49m\u001b[43mstep\u001b[49m\u001b[43m,\u001b[49m\n\u001b[1;32m     82\u001b[0m \u001b[43m        \u001b[49m\u001b[43mepisode_num\u001b[49m\u001b[38;5;241;43m=\u001b[39;49m\u001b[43mepisode_num\u001b[49m\u001b[43m,\u001b[49m\n\u001b[1;32m     83\u001b[0m \u001b[43m        \u001b[49m\u001b[43mn_tests\u001b[49m\u001b[38;5;241;43m=\u001b[39;49m\u001b[43mn_tests\u001b[49m\u001b[43m,\u001b[49m\n\u001b[1;32m     84\u001b[0m \u001b[43m        \u001b[49m\u001b[43mquiet\u001b[49m\u001b[38;5;241;43m=\u001b[39;49m\u001b[43mquiet\u001b[49m\u001b[43m,\u001b[49m\n\u001b[1;32m     85\u001b[0m \u001b[43m        \u001b[49m\u001b[43mrun_handle\u001b[49m\u001b[38;5;241;43m=\u001b[39;49m\u001b[43mrun\u001b[49m\u001b[43m,\u001b[49m\n\u001b[1;32m     86\u001b[0m \u001b[43m        \u001b[49m\u001b[43mmax_step\u001b[49m\u001b[38;5;241;43m=\u001b[39;49m\u001b[43mmax_step\u001b[49m\u001b[43m,\u001b[49m\n\u001b[1;32m     87\u001b[0m \u001b[43m        \u001b[49m\u001b[43mtest_interval\u001b[49m\u001b[38;5;241;43m=\u001b[39;49m\u001b[43mtest_interval\u001b[49m\u001b[43m,\u001b[49m\n\u001b[1;32m     88\u001b[0m \u001b[43m    \u001b[49m\u001b[43m)\u001b[49m\n\u001b[1;32m     89\u001b[0m     episode_num \u001b[38;5;241m+\u001b[39m\u001b[38;5;241m=\u001b[39m \u001b[38;5;241m1\u001b[39m\n\u001b[1;32m     90\u001b[0m     step \u001b[38;5;241m+\u001b[39m\u001b[38;5;241m=\u001b[39m \u001b[38;5;28mlen\u001b[39m(episode)\n",
      "File \u001b[0;32m~/projects/python/marl/src/marl/models/runner.py:57\u001b[0m, in \u001b[0;36mRunner._train_episode\u001b[0;34m(self, step_num, episode_num, n_tests, quiet, run_handle, max_step, test_interval)\u001b[0m\n\u001b[1;32m     55\u001b[0m     obs \u001b[38;5;241m=\u001b[39m obs_\n\u001b[1;32m     56\u001b[0m episode \u001b[38;5;241m=\u001b[39m episode\u001b[38;5;241m.\u001b[39mbuild({\u001b[38;5;124m\"\u001b[39m\u001b[38;5;124minitial_value\u001b[39m\u001b[38;5;124m\"\u001b[39m: initial_value})\n\u001b[0;32m---> 57\u001b[0m training_logs \u001b[38;5;241m=\u001b[39m \u001b[38;5;28;43mself\u001b[39;49m\u001b[38;5;241;43m.\u001b[39;49m\u001b[43m_trainer\u001b[49m\u001b[38;5;241;43m.\u001b[39;49m\u001b[43mupdate_episode\u001b[49m\u001b[43m(\u001b[49m\u001b[43mepisode\u001b[49m\u001b[43m,\u001b[49m\u001b[43m \u001b[49m\u001b[43mepisode_num\u001b[49m\u001b[43m,\u001b[49m\u001b[43m \u001b[49m\u001b[43mstep_num\u001b[49m\u001b[43m)\u001b[49m\n\u001b[1;32m     58\u001b[0m run_handle\u001b[38;5;241m.\u001b[39mlog_train_episode(episode, step_num, training_logs)\n\u001b[1;32m     59\u001b[0m \u001b[38;5;28;01mreturn\u001b[39;00m episode\n",
      "File \u001b[0;32m~/projects/python/marl/src/marl/other/local_graph.py:111\u001b[0m, in \u001b[0;36mLocalGraphTrainer.update_episode\u001b[0;34m(self, episode, episode_num, time_step)\u001b[0m\n\u001b[1;32m    110\u001b[0m \u001b[38;5;28;01mdef\u001b[39;00m \u001b[38;5;21mupdate_episode\u001b[39m(\u001b[38;5;28mself\u001b[39m, episode, episode_num, time_step):\n\u001b[0;32m--> 111\u001b[0m     \u001b[38;5;28;43mself\u001b[39;49m\u001b[38;5;241;43m.\u001b[39;49m\u001b[43mlocal_graph\u001b[49m\u001b[38;5;241;43m.\u001b[39;49m\u001b[43mcompute_bottleneck\u001b[49m\u001b[43m(\u001b[49m\u001b[38;5;28;43mself\u001b[39;49m\u001b[38;5;241;43m.\u001b[39;49m\u001b[43mstates\u001b[49m\u001b[43m)\u001b[49m\n\u001b[1;32m    112\u001b[0m     \u001b[38;5;28mself\u001b[39m\u001b[38;5;241m.\u001b[39mstates\u001b[38;5;241m.\u001b[39mclear()\n\u001b[1;32m    113\u001b[0m     \u001b[38;5;28;01mif\u001b[39;00m \u001b[38;5;28mself\u001b[39m\u001b[38;5;241m.\u001b[39mtrainer \u001b[38;5;129;01mis\u001b[39;00m \u001b[38;5;129;01mnot\u001b[39;00m \u001b[38;5;28;01mNone\u001b[39;00m:\n",
      "File \u001b[0;32m~/projects/python/marl/src/marl/other/local_graph.py:56\u001b[0m, in \u001b[0;36mLocalGraphBottleneckFinder.compute_bottleneck\u001b[0;34m(self, states)\u001b[0m\n\u001b[1;32m     54\u001b[0m local_graph \u001b[38;5;241m=\u001b[39m \u001b[38;5;28mself\u001b[39m\u001b[38;5;241m.\u001b[39m_build_local_graph(states)\n\u001b[1;32m     55\u001b[0m \u001b[38;5;66;03m# print(f\"Graph size: {len(local_graph.nodes)} nodes, {len(local_graph.edges)} edges\")\u001b[39;00m\n\u001b[0;32m---> 56\u001b[0m W \u001b[38;5;241m=\u001b[39m \u001b[43mnx\u001b[49m\u001b[38;5;241;43m.\u001b[39;49m\u001b[43madjacency_matrix\u001b[49m\u001b[43m(\u001b[49m\u001b[43mlocal_graph\u001b[49m\u001b[43m)\u001b[49m\u001b[38;5;241m.\u001b[39mtodense()  \u001b[38;5;66;03m# Adjacency/Weight matrix of the graph\u001b[39;00m\n\u001b[1;32m     57\u001b[0m sc \u001b[38;5;241m=\u001b[39m SpectralClustering(\u001b[38;5;241m2\u001b[39m, affinity\u001b[38;5;241m=\u001b[39m\u001b[38;5;124m\"\u001b[39m\u001b[38;5;124mprecomputed_nearest_neighbors\u001b[39m\u001b[38;5;124m\"\u001b[39m, n_init\u001b[38;5;241m=\u001b[39m\u001b[38;5;241m100\u001b[39m)\n\u001b[1;32m     58\u001b[0m labels \u001b[38;5;241m=\u001b[39m sc\u001b[38;5;241m.\u001b[39mfit_predict(W)\n",
      "File \u001b[0;32m<class 'networkx.utils.decorators.argmap'> compilation 4:3\u001b[0m, in \u001b[0;36margmap_adjacency_matrix_1\u001b[0;34m(G, nodelist, dtype, weight, backend, **backend_kwargs)\u001b[0m\n\u001b[1;32m      1\u001b[0m \u001b[38;5;28;01mimport\u001b[39;00m \u001b[38;5;21;01mbz2\u001b[39;00m\n\u001b[1;32m      2\u001b[0m \u001b[38;5;28;01mimport\u001b[39;00m \u001b[38;5;21;01mcollections\u001b[39;00m\n\u001b[0;32m----> 3\u001b[0m \u001b[38;5;28;01mimport\u001b[39;00m \u001b[38;5;21;01mgzip\u001b[39;00m\n\u001b[1;32m      4\u001b[0m \u001b[38;5;28;01mimport\u001b[39;00m \u001b[38;5;21;01minspect\u001b[39;00m\n\u001b[1;32m      5\u001b[0m \u001b[38;5;28;01mimport\u001b[39;00m \u001b[38;5;21;01mitertools\u001b[39;00m\n",
      "File \u001b[0;32m~/projects/python/marl/.venv/lib/python3.12/site-packages/networkx/utils/backends.py:967\u001b[0m, in \u001b[0;36m_dispatchable.__call__\u001b[0;34m(self, backend, *args, **kwargs)\u001b[0m\n\u001b[1;32m    965\u001b[0m     \u001b[38;5;28;01mif\u001b[39;00m backend \u001b[38;5;129;01mis\u001b[39;00m \u001b[38;5;129;01mnot\u001b[39;00m \u001b[38;5;28;01mNone\u001b[39;00m \u001b[38;5;129;01mand\u001b[39;00m backend \u001b[38;5;241m!=\u001b[39m \u001b[38;5;124m\"\u001b[39m\u001b[38;5;124mnetworkx\u001b[39m\u001b[38;5;124m\"\u001b[39m:\n\u001b[1;32m    966\u001b[0m         \u001b[38;5;28;01mraise\u001b[39;00m \u001b[38;5;167;01mImportError\u001b[39;00m(\u001b[38;5;124mf\u001b[39m\u001b[38;5;124m\"\u001b[39m\u001b[38;5;124m'\u001b[39m\u001b[38;5;132;01m{\u001b[39;00mbackend\u001b[38;5;132;01m}\u001b[39;00m\u001b[38;5;124m'\u001b[39m\u001b[38;5;124m backend is not installed\u001b[39m\u001b[38;5;124m\"\u001b[39m)\n\u001b[0;32m--> 967\u001b[0m     \u001b[38;5;28;01mreturn\u001b[39;00m \u001b[38;5;28;43mself\u001b[39;49m\u001b[38;5;241;43m.\u001b[39;49m\u001b[43morig_func\u001b[49m\u001b[43m(\u001b[49m\u001b[38;5;241;43m*\u001b[39;49m\u001b[43margs\u001b[49m\u001b[43m,\u001b[49m\u001b[43m \u001b[49m\u001b[38;5;241;43m*\u001b[39;49m\u001b[38;5;241;43m*\u001b[39;49m\u001b[43mkwargs\u001b[49m\u001b[43m)\u001b[49m\n\u001b[1;32m    969\u001b[0m \u001b[38;5;66;03m# Use `backend_name` in this function instead of `backend`.\u001b[39;00m\n\u001b[1;32m    970\u001b[0m \u001b[38;5;66;03m# This is purely for aesthetics and to make it easier to search for this\u001b[39;00m\n\u001b[1;32m    971\u001b[0m \u001b[38;5;66;03m# variable since \"backend\" is used in many comments and log/error messages.\u001b[39;00m\n\u001b[1;32m    972\u001b[0m backend_name \u001b[38;5;241m=\u001b[39m backend\n",
      "File \u001b[0;32m~/projects/python/marl/.venv/lib/python3.12/site-packages/networkx/linalg/graphmatrix.py:168\u001b[0m, in \u001b[0;36madjacency_matrix\u001b[0;34m(G, nodelist, dtype, weight)\u001b[0m\n\u001b[1;32m    108\u001b[0m \u001b[38;5;129m@nx\u001b[39m\u001b[38;5;241m.\u001b[39m_dispatchable(edge_attrs\u001b[38;5;241m=\u001b[39m\u001b[38;5;124m\"\u001b[39m\u001b[38;5;124mweight\u001b[39m\u001b[38;5;124m\"\u001b[39m)\n\u001b[1;32m    109\u001b[0m \u001b[38;5;28;01mdef\u001b[39;00m \u001b[38;5;21madjacency_matrix\u001b[39m(G, nodelist\u001b[38;5;241m=\u001b[39m\u001b[38;5;28;01mNone\u001b[39;00m, dtype\u001b[38;5;241m=\u001b[39m\u001b[38;5;28;01mNone\u001b[39;00m, weight\u001b[38;5;241m=\u001b[39m\u001b[38;5;124m\"\u001b[39m\u001b[38;5;124mweight\u001b[39m\u001b[38;5;124m\"\u001b[39m):\n\u001b[1;32m    110\u001b[0m \u001b[38;5;250m    \u001b[39m\u001b[38;5;124;03m\"\"\"Returns adjacency matrix of `G`.\u001b[39;00m\n\u001b[1;32m    111\u001b[0m \n\u001b[1;32m    112\u001b[0m \u001b[38;5;124;03m    Parameters\u001b[39;00m\n\u001b[0;32m   (...)\u001b[0m\n\u001b[1;32m    166\u001b[0m \u001b[38;5;124;03m    adjacency_spectrum\u001b[39;00m\n\u001b[1;32m    167\u001b[0m \u001b[38;5;124;03m    \"\"\"\u001b[39;00m\n\u001b[0;32m--> 168\u001b[0m     \u001b[38;5;28;01mreturn\u001b[39;00m \u001b[43mnx\u001b[49m\u001b[38;5;241;43m.\u001b[39;49m\u001b[43mto_scipy_sparse_array\u001b[49m\u001b[43m(\u001b[49m\u001b[43mG\u001b[49m\u001b[43m,\u001b[49m\u001b[43m \u001b[49m\u001b[43mnodelist\u001b[49m\u001b[38;5;241;43m=\u001b[39;49m\u001b[43mnodelist\u001b[49m\u001b[43m,\u001b[49m\u001b[43m \u001b[49m\u001b[43mdtype\u001b[49m\u001b[38;5;241;43m=\u001b[39;49m\u001b[43mdtype\u001b[49m\u001b[43m,\u001b[49m\u001b[43m \u001b[49m\u001b[43mweight\u001b[49m\u001b[38;5;241;43m=\u001b[39;49m\u001b[43mweight\u001b[49m\u001b[43m)\u001b[49m\n",
      "File \u001b[0;32m<class 'networkx.utils.decorators.argmap'> compilation 8:3\u001b[0m, in \u001b[0;36margmap_to_scipy_sparse_array_5\u001b[0;34m(G, nodelist, dtype, weight, format, backend, **backend_kwargs)\u001b[0m\n\u001b[1;32m      1\u001b[0m \u001b[38;5;28;01mimport\u001b[39;00m \u001b[38;5;21;01mbz2\u001b[39;00m\n\u001b[1;32m      2\u001b[0m \u001b[38;5;28;01mimport\u001b[39;00m \u001b[38;5;21;01mcollections\u001b[39;00m\n\u001b[0;32m----> 3\u001b[0m \u001b[38;5;28;01mimport\u001b[39;00m \u001b[38;5;21;01mgzip\u001b[39;00m\n\u001b[1;32m      4\u001b[0m \u001b[38;5;28;01mimport\u001b[39;00m \u001b[38;5;21;01minspect\u001b[39;00m\n\u001b[1;32m      5\u001b[0m \u001b[38;5;28;01mimport\u001b[39;00m \u001b[38;5;21;01mitertools\u001b[39;00m\n",
      "File \u001b[0;32m~/projects/python/marl/.venv/lib/python3.12/site-packages/networkx/utils/backends.py:967\u001b[0m, in \u001b[0;36m_dispatchable.__call__\u001b[0;34m(self, backend, *args, **kwargs)\u001b[0m\n\u001b[1;32m    965\u001b[0m     \u001b[38;5;28;01mif\u001b[39;00m backend \u001b[38;5;129;01mis\u001b[39;00m \u001b[38;5;129;01mnot\u001b[39;00m \u001b[38;5;28;01mNone\u001b[39;00m \u001b[38;5;129;01mand\u001b[39;00m backend \u001b[38;5;241m!=\u001b[39m \u001b[38;5;124m\"\u001b[39m\u001b[38;5;124mnetworkx\u001b[39m\u001b[38;5;124m\"\u001b[39m:\n\u001b[1;32m    966\u001b[0m         \u001b[38;5;28;01mraise\u001b[39;00m \u001b[38;5;167;01mImportError\u001b[39;00m(\u001b[38;5;124mf\u001b[39m\u001b[38;5;124m\"\u001b[39m\u001b[38;5;124m'\u001b[39m\u001b[38;5;132;01m{\u001b[39;00mbackend\u001b[38;5;132;01m}\u001b[39;00m\u001b[38;5;124m'\u001b[39m\u001b[38;5;124m backend is not installed\u001b[39m\u001b[38;5;124m\"\u001b[39m)\n\u001b[0;32m--> 967\u001b[0m     \u001b[38;5;28;01mreturn\u001b[39;00m \u001b[38;5;28;43mself\u001b[39;49m\u001b[38;5;241;43m.\u001b[39;49m\u001b[43morig_func\u001b[49m\u001b[43m(\u001b[49m\u001b[38;5;241;43m*\u001b[39;49m\u001b[43margs\u001b[49m\u001b[43m,\u001b[49m\u001b[43m \u001b[49m\u001b[38;5;241;43m*\u001b[39;49m\u001b[38;5;241;43m*\u001b[39;49m\u001b[43mkwargs\u001b[49m\u001b[43m)\u001b[49m\n\u001b[1;32m    969\u001b[0m \u001b[38;5;66;03m# Use `backend_name` in this function instead of `backend`.\u001b[39;00m\n\u001b[1;32m    970\u001b[0m \u001b[38;5;66;03m# This is purely for aesthetics and to make it easier to search for this\u001b[39;00m\n\u001b[1;32m    971\u001b[0m \u001b[38;5;66;03m# variable since \"backend\" is used in many comments and log/error messages.\u001b[39;00m\n\u001b[1;32m    972\u001b[0m backend_name \u001b[38;5;241m=\u001b[39m backend\n",
      "File \u001b[0;32m~/projects/python/marl/.venv/lib/python3.12/site-packages/networkx/convert_matrix.py:668\u001b[0m, in \u001b[0;36mto_scipy_sparse_array\u001b[0;34m(G, nodelist, dtype, weight, format)\u001b[0m\n\u001b[1;32m    665\u001b[0m \u001b[38;5;28;01mimport\u001b[39;00m \u001b[38;5;21;01mscipy\u001b[39;00m \u001b[38;5;28;01mas\u001b[39;00m \u001b[38;5;21;01msp\u001b[39;00m\n\u001b[1;32m    667\u001b[0m \u001b[38;5;28;01mif\u001b[39;00m \u001b[38;5;28mlen\u001b[39m(G) \u001b[38;5;241m==\u001b[39m \u001b[38;5;241m0\u001b[39m:\n\u001b[0;32m--> 668\u001b[0m     \u001b[38;5;28;01mraise\u001b[39;00m nx\u001b[38;5;241m.\u001b[39mNetworkXError(\u001b[38;5;124m\"\u001b[39m\u001b[38;5;124mGraph has no nodes or edges\u001b[39m\u001b[38;5;124m\"\u001b[39m)\n\u001b[1;32m    670\u001b[0m \u001b[38;5;28;01mif\u001b[39;00m nodelist \u001b[38;5;129;01mis\u001b[39;00m \u001b[38;5;28;01mNone\u001b[39;00m:\n\u001b[1;32m    671\u001b[0m     nodelist \u001b[38;5;241m=\u001b[39m \u001b[38;5;28mlist\u001b[39m(G)\n",
      "\u001b[0;31mNetworkXError\u001b[0m: Graph has no nodes or edges"
     ]
    },
    {
     "name": "stderr",
     "output_type": "stream",
     "text": [
      "Training: 100%|█████████▉| 99999/100000 [00:23<00:00, 23841.40Step/s]"
     ]
    }
   ],
   "source": [
    "bottlenecks = dict[tuple, list[float]]()\n",
    "N_EXPERIMENTS = 10\n",
    "for seed in range(N_EXPERIMENTS):\n",
    "    finder = LocalGraphBottleneckFinder()\n",
    "    trainer = LocalGraphTrainer(finder, world, None)\n",
    "    exp = marl.Experiment.create(logdir=\"logs/test\", trainer=trainer, n_steps=100_000, test_interval=0, env=env)\n",
    "    print(f\"Experiment {seed + 1}/{N_EXPERIMENTS}\")\n",
    "    exp.run(seed)\n",
    "    graph, vertex_positions, bottleneck_probs = get_bottlenecks_stats(finder)\n",
    "    for edge, prob in bottleneck_probs.items():\n",
    "        if edge not in bottlenecks:\n",
    "            bottlenecks[edge] = []\n",
    "        bottlenecks[edge].append(prob)\n",
    "    #show_bottlenecks(graph, vertex_positions, bottleneck_probs, hit_count, apparition_counts)\n",
    "\n",
    "total_bottleneck_probs = dict()\n",
    "for edge, probs in bottlenecks.items():\n",
    "    total_bottleneck_probs[edge] = np.mean(probs)\n",
    "    print(edge, len(probs), np.mean(probs), np.std(probs))\n",
    "\n",
    "show_bottlenecks(graph, vertex_positions, total_bottleneck_probs)"
   ]
  },
  {
   "cell_type": "code",
   "execution_count": null,
   "id": "ca3c64f3",
   "metadata": {},
   "outputs": [],
   "source": [
    "import json\n",
    "total_bottleneck_probs = dict()\n",
    "for edge, probs in bottlenecks.items():\n",
    "    total_bottleneck_probs[edge] = float(np.mean(probs))\n",
    "\n",
    "print(total_bottleneck_probs)\n",
    "with open(\"bottlenecks.json\", \"w\") as f:\n",
    "    json_data = {str(k): v for k, v in total_bottleneck_probs.items()}\n",
    "    json.dump(json_data, f)\n",
    "\n",
    "show_bottlenecks(graph, vertex_positions, total_bottleneck_probs)\n"
   ]
  },
  {
   "cell_type": "code",
   "execution_count": null,
   "id": "248b356f",
   "metadata": {},
   "outputs": [],
   "source": [
    "import seaborn as sns\n",
    "heatmap = np.zeros((world.height, world.width))\n",
    "for edge, prob in total_bottleneck_probs.items():\n",
    "    start, end = edge\n",
    "    heatmap[start] += prob\n",
    "    heatmap[end] += prob\n",
    "\n",
    "plt.figure(figsize=(10.5, 5.5))\n",
    "sns.heatmap(heatmap)\n",
    "# plt.savefig(\"heatmap.svg\")\n",
    "\n",
    "plt.show()"
   ]
  },
  {
   "cell_type": "code",
   "execution_count": 7,
   "id": "95f3d621",
   "metadata": {},
   "outputs": [
    {
     "name": "stderr",
     "output_type": "stream",
     "text": [
      "thread '<unnamed>' panicked at src/core/world/world.rs:526:67:\n",
      "called `Result::unwrap()` on an `Err` value: NoAgents\n"
     ]
    },
    {
     "ename": "PanicException",
     "evalue": "called `Result::unwrap()` on an `Err` value: NoAgents",
     "output_type": "error",
     "traceback": [
      "\u001b[0;31m---------------------------------------------------------------------------\u001b[0m",
      "\u001b[0;31mPanicException\u001b[0m                            Traceback (most recent call last)",
      "Cell \u001b[0;32mIn[7], line 8\u001b[0m\n\u001b[1;32m      6\u001b[0m finder \u001b[38;5;241m=\u001b[39m LocalGraphBottleneckFinder()\n\u001b[1;32m      7\u001b[0m trainer \u001b[38;5;241m=\u001b[39m LocalGraphTrainer(finder)\n\u001b[0;32m----> 8\u001b[0m exp \u001b[38;5;241m=\u001b[39m \u001b[43mmarl\u001b[49m\u001b[38;5;241;43m.\u001b[39;49m\u001b[43mExperiment\u001b[49m\u001b[38;5;241;43m.\u001b[39;49m\u001b[43mcreate\u001b[49m\u001b[43m(\u001b[49m\u001b[43mlogdir\u001b[49m\u001b[38;5;241;43m=\u001b[39;49m\u001b[38;5;124;43m\"\u001b[39;49m\u001b[38;5;124;43mlogs/2-agents\u001b[39;49m\u001b[38;5;124;43m\"\u001b[39;49m\u001b[43m,\u001b[49m\u001b[43m \u001b[49m\u001b[43mtrainer\u001b[49m\u001b[38;5;241;43m=\u001b[39;49m\u001b[43mtrainer\u001b[49m\u001b[43m,\u001b[49m\u001b[43m \u001b[49m\u001b[43mn_steps\u001b[49m\u001b[38;5;241;43m=\u001b[39;49m\u001b[38;5;241;43m1_000_000\u001b[39;49m\u001b[43m,\u001b[49m\u001b[43m \u001b[49m\u001b[43mtest_interval\u001b[49m\u001b[38;5;241;43m=\u001b[39;49m\u001b[38;5;241;43m0\u001b[39;49m\u001b[43m,\u001b[49m\u001b[43m \u001b[49m\u001b[43menv\u001b[49m\u001b[38;5;241;43m=\u001b[39;49m\u001b[43menv\u001b[49m\u001b[43m)\u001b[49m\n\u001b[1;32m      9\u001b[0m exp\u001b[38;5;241m.\u001b[39mrun()\n",
      "File \u001b[0;32m~/projects/python/marl/src/marl/models/experiment.py:79\u001b[0m, in \u001b[0;36mExperiment.create\u001b[0;34m(env, n_steps, logdir, algo, trainer, test_interval, test_env)\u001b[0m\n\u001b[1;32m     77\u001b[0m     MARLEnv\u001b[38;5;241m.\u001b[39massert_same_inouts(env, test_env)\n\u001b[1;32m     78\u001b[0m \u001b[38;5;28;01melse\u001b[39;00m:\n\u001b[0;32m---> 79\u001b[0m     test_env \u001b[38;5;241m=\u001b[39m \u001b[43mdeepcopy\u001b[49m\u001b[43m(\u001b[49m\u001b[43menv\u001b[49m\u001b[43m)\u001b[49m\n\u001b[1;32m     81\u001b[0m \u001b[38;5;28;01mif\u001b[39;00m \u001b[38;5;129;01mnot\u001b[39;00m logdir\u001b[38;5;241m.\u001b[39mstartswith(\u001b[38;5;124m\"\u001b[39m\u001b[38;5;124mlogs/\u001b[39m\u001b[38;5;124m\"\u001b[39m):\n\u001b[1;32m     82\u001b[0m     logdir \u001b[38;5;241m=\u001b[39m os\u001b[38;5;241m.\u001b[39mpath\u001b[38;5;241m.\u001b[39mjoin(\u001b[38;5;124m\"\u001b[39m\u001b[38;5;124mlogs\u001b[39m\u001b[38;5;124m\"\u001b[39m, logdir)\n",
      "File \u001b[0;32m/usr/lib/python3.12/copy.py:162\u001b[0m, in \u001b[0;36mdeepcopy\u001b[0;34m(x, memo, _nil)\u001b[0m\n\u001b[1;32m    160\u001b[0m                 y \u001b[38;5;241m=\u001b[39m x\n\u001b[1;32m    161\u001b[0m             \u001b[38;5;28;01melse\u001b[39;00m:\n\u001b[0;32m--> 162\u001b[0m                 y \u001b[38;5;241m=\u001b[39m \u001b[43m_reconstruct\u001b[49m\u001b[43m(\u001b[49m\u001b[43mx\u001b[49m\u001b[43m,\u001b[49m\u001b[43m \u001b[49m\u001b[43mmemo\u001b[49m\u001b[43m,\u001b[49m\u001b[43m \u001b[49m\u001b[38;5;241;43m*\u001b[39;49m\u001b[43mrv\u001b[49m\u001b[43m)\u001b[49m\n\u001b[1;32m    164\u001b[0m \u001b[38;5;66;03m# If is its own copy, don't memoize.\u001b[39;00m\n\u001b[1;32m    165\u001b[0m \u001b[38;5;28;01mif\u001b[39;00m y \u001b[38;5;129;01mis\u001b[39;00m \u001b[38;5;129;01mnot\u001b[39;00m x:\n",
      "File \u001b[0;32m/usr/lib/python3.12/copy.py:259\u001b[0m, in \u001b[0;36m_reconstruct\u001b[0;34m(x, memo, func, args, state, listiter, dictiter, deepcopy)\u001b[0m\n\u001b[1;32m    257\u001b[0m \u001b[38;5;28;01mif\u001b[39;00m state \u001b[38;5;129;01mis\u001b[39;00m \u001b[38;5;129;01mnot\u001b[39;00m \u001b[38;5;28;01mNone\u001b[39;00m:\n\u001b[1;32m    258\u001b[0m     \u001b[38;5;28;01mif\u001b[39;00m deep:\n\u001b[0;32m--> 259\u001b[0m         state \u001b[38;5;241m=\u001b[39m \u001b[43mdeepcopy\u001b[49m\u001b[43m(\u001b[49m\u001b[43mstate\u001b[49m\u001b[43m,\u001b[49m\u001b[43m \u001b[49m\u001b[43mmemo\u001b[49m\u001b[43m)\u001b[49m\n\u001b[1;32m    260\u001b[0m     \u001b[38;5;28;01mif\u001b[39;00m \u001b[38;5;28mhasattr\u001b[39m(y, \u001b[38;5;124m'\u001b[39m\u001b[38;5;124m__setstate__\u001b[39m\u001b[38;5;124m'\u001b[39m):\n\u001b[1;32m    261\u001b[0m         y\u001b[38;5;241m.\u001b[39m__setstate__(state)\n",
      "File \u001b[0;32m/usr/lib/python3.12/copy.py:136\u001b[0m, in \u001b[0;36mdeepcopy\u001b[0;34m(x, memo, _nil)\u001b[0m\n\u001b[1;32m    134\u001b[0m copier \u001b[38;5;241m=\u001b[39m _deepcopy_dispatch\u001b[38;5;241m.\u001b[39mget(\u001b[38;5;28mcls\u001b[39m)\n\u001b[1;32m    135\u001b[0m \u001b[38;5;28;01mif\u001b[39;00m copier \u001b[38;5;129;01mis\u001b[39;00m \u001b[38;5;129;01mnot\u001b[39;00m \u001b[38;5;28;01mNone\u001b[39;00m:\n\u001b[0;32m--> 136\u001b[0m     y \u001b[38;5;241m=\u001b[39m \u001b[43mcopier\u001b[49m\u001b[43m(\u001b[49m\u001b[43mx\u001b[49m\u001b[43m,\u001b[49m\u001b[43m \u001b[49m\u001b[43mmemo\u001b[49m\u001b[43m)\u001b[49m\n\u001b[1;32m    137\u001b[0m \u001b[38;5;28;01melse\u001b[39;00m:\n\u001b[1;32m    138\u001b[0m     \u001b[38;5;28;01mif\u001b[39;00m \u001b[38;5;28missubclass\u001b[39m(\u001b[38;5;28mcls\u001b[39m, \u001b[38;5;28mtype\u001b[39m):\n",
      "File \u001b[0;32m/usr/lib/python3.12/copy.py:221\u001b[0m, in \u001b[0;36m_deepcopy_dict\u001b[0;34m(x, memo, deepcopy)\u001b[0m\n\u001b[1;32m    219\u001b[0m memo[\u001b[38;5;28mid\u001b[39m(x)] \u001b[38;5;241m=\u001b[39m y\n\u001b[1;32m    220\u001b[0m \u001b[38;5;28;01mfor\u001b[39;00m key, value \u001b[38;5;129;01min\u001b[39;00m x\u001b[38;5;241m.\u001b[39mitems():\n\u001b[0;32m--> 221\u001b[0m     y[deepcopy(key, memo)] \u001b[38;5;241m=\u001b[39m \u001b[43mdeepcopy\u001b[49m\u001b[43m(\u001b[49m\u001b[43mvalue\u001b[49m\u001b[43m,\u001b[49m\u001b[43m \u001b[49m\u001b[43mmemo\u001b[49m\u001b[43m)\u001b[49m\n\u001b[1;32m    222\u001b[0m \u001b[38;5;28;01mreturn\u001b[39;00m y\n",
      "File \u001b[0;32m/usr/lib/python3.12/copy.py:162\u001b[0m, in \u001b[0;36mdeepcopy\u001b[0;34m(x, memo, _nil)\u001b[0m\n\u001b[1;32m    160\u001b[0m                 y \u001b[38;5;241m=\u001b[39m x\n\u001b[1;32m    161\u001b[0m             \u001b[38;5;28;01melse\u001b[39;00m:\n\u001b[0;32m--> 162\u001b[0m                 y \u001b[38;5;241m=\u001b[39m \u001b[43m_reconstruct\u001b[49m\u001b[43m(\u001b[49m\u001b[43mx\u001b[49m\u001b[43m,\u001b[49m\u001b[43m \u001b[49m\u001b[43mmemo\u001b[49m\u001b[43m,\u001b[49m\u001b[43m \u001b[49m\u001b[38;5;241;43m*\u001b[39;49m\u001b[43mrv\u001b[49m\u001b[43m)\u001b[49m\n\u001b[1;32m    164\u001b[0m \u001b[38;5;66;03m# If is its own copy, don't memoize.\u001b[39;00m\n\u001b[1;32m    165\u001b[0m \u001b[38;5;28;01mif\u001b[39;00m y \u001b[38;5;129;01mis\u001b[39;00m \u001b[38;5;129;01mnot\u001b[39;00m x:\n",
      "File \u001b[0;32m/usr/lib/python3.12/copy.py:259\u001b[0m, in \u001b[0;36m_reconstruct\u001b[0;34m(x, memo, func, args, state, listiter, dictiter, deepcopy)\u001b[0m\n\u001b[1;32m    257\u001b[0m \u001b[38;5;28;01mif\u001b[39;00m state \u001b[38;5;129;01mis\u001b[39;00m \u001b[38;5;129;01mnot\u001b[39;00m \u001b[38;5;28;01mNone\u001b[39;00m:\n\u001b[1;32m    258\u001b[0m     \u001b[38;5;28;01mif\u001b[39;00m deep:\n\u001b[0;32m--> 259\u001b[0m         state \u001b[38;5;241m=\u001b[39m \u001b[43mdeepcopy\u001b[49m\u001b[43m(\u001b[49m\u001b[43mstate\u001b[49m\u001b[43m,\u001b[49m\u001b[43m \u001b[49m\u001b[43mmemo\u001b[49m\u001b[43m)\u001b[49m\n\u001b[1;32m    260\u001b[0m     \u001b[38;5;28;01mif\u001b[39;00m \u001b[38;5;28mhasattr\u001b[39m(y, \u001b[38;5;124m'\u001b[39m\u001b[38;5;124m__setstate__\u001b[39m\u001b[38;5;124m'\u001b[39m):\n\u001b[1;32m    261\u001b[0m         y\u001b[38;5;241m.\u001b[39m__setstate__(state)\n",
      "File \u001b[0;32m/usr/lib/python3.12/copy.py:136\u001b[0m, in \u001b[0;36mdeepcopy\u001b[0;34m(x, memo, _nil)\u001b[0m\n\u001b[1;32m    134\u001b[0m copier \u001b[38;5;241m=\u001b[39m _deepcopy_dispatch\u001b[38;5;241m.\u001b[39mget(\u001b[38;5;28mcls\u001b[39m)\n\u001b[1;32m    135\u001b[0m \u001b[38;5;28;01mif\u001b[39;00m copier \u001b[38;5;129;01mis\u001b[39;00m \u001b[38;5;129;01mnot\u001b[39;00m \u001b[38;5;28;01mNone\u001b[39;00m:\n\u001b[0;32m--> 136\u001b[0m     y \u001b[38;5;241m=\u001b[39m \u001b[43mcopier\u001b[49m\u001b[43m(\u001b[49m\u001b[43mx\u001b[49m\u001b[43m,\u001b[49m\u001b[43m \u001b[49m\u001b[43mmemo\u001b[49m\u001b[43m)\u001b[49m\n\u001b[1;32m    137\u001b[0m \u001b[38;5;28;01melse\u001b[39;00m:\n\u001b[1;32m    138\u001b[0m     \u001b[38;5;28;01mif\u001b[39;00m \u001b[38;5;28missubclass\u001b[39m(\u001b[38;5;28mcls\u001b[39m, \u001b[38;5;28mtype\u001b[39m):\n",
      "File \u001b[0;32m/usr/lib/python3.12/copy.py:221\u001b[0m, in \u001b[0;36m_deepcopy_dict\u001b[0;34m(x, memo, deepcopy)\u001b[0m\n\u001b[1;32m    219\u001b[0m memo[\u001b[38;5;28mid\u001b[39m(x)] \u001b[38;5;241m=\u001b[39m y\n\u001b[1;32m    220\u001b[0m \u001b[38;5;28;01mfor\u001b[39;00m key, value \u001b[38;5;129;01min\u001b[39;00m x\u001b[38;5;241m.\u001b[39mitems():\n\u001b[0;32m--> 221\u001b[0m     y[deepcopy(key, memo)] \u001b[38;5;241m=\u001b[39m \u001b[43mdeepcopy\u001b[49m\u001b[43m(\u001b[49m\u001b[43mvalue\u001b[49m\u001b[43m,\u001b[49m\u001b[43m \u001b[49m\u001b[43mmemo\u001b[49m\u001b[43m)\u001b[49m\n\u001b[1;32m    222\u001b[0m \u001b[38;5;28;01mreturn\u001b[39;00m y\n",
      "File \u001b[0;32m/usr/lib/python3.12/copy.py:143\u001b[0m, in \u001b[0;36mdeepcopy\u001b[0;34m(x, memo, _nil)\u001b[0m\n\u001b[1;32m    141\u001b[0m copier \u001b[38;5;241m=\u001b[39m \u001b[38;5;28mgetattr\u001b[39m(x, \u001b[38;5;124m\"\u001b[39m\u001b[38;5;124m__deepcopy__\u001b[39m\u001b[38;5;124m\"\u001b[39m, \u001b[38;5;28;01mNone\u001b[39;00m)\n\u001b[1;32m    142\u001b[0m \u001b[38;5;28;01mif\u001b[39;00m copier \u001b[38;5;129;01mis\u001b[39;00m \u001b[38;5;129;01mnot\u001b[39;00m \u001b[38;5;28;01mNone\u001b[39;00m:\n\u001b[0;32m--> 143\u001b[0m     y \u001b[38;5;241m=\u001b[39m \u001b[43mcopier\u001b[49m\u001b[43m(\u001b[49m\u001b[43mmemo\u001b[49m\u001b[43m)\u001b[49m\n\u001b[1;32m    144\u001b[0m \u001b[38;5;28;01melse\u001b[39;00m:\n\u001b[1;32m    145\u001b[0m     reductor \u001b[38;5;241m=\u001b[39m dispatch_table\u001b[38;5;241m.\u001b[39mget(\u001b[38;5;28mcls\u001b[39m)\n",
      "\u001b[0;31mPanicException\u001b[0m: called `Result::unwrap()` on an `Err` value: NoAgents"
     ]
    }
   ],
   "source": [
    "env = LLE.from_file(\"maps/subgraph-2agents.toml\").obs_type(\"layered\").single_objective()\n",
    "masked_actions = np.full((2, 5), True)\n",
    "masked_actions[:, Action.STAY.value] = False\n",
    "env = marlenv.Builder(env).mask_actions(masked_actions).build()\n",
    "\n",
    "finder = LocalGraphBottleneckFinder()\n",
    "trainer = LocalGraphTrainer(finder)\n",
    "exp = marl.Experiment.create(logdir=\"logs/2-agents\", trainer=trainer, n_steps=1_000_000, test_interval=0, env=env)\n",
    "exp.run()"
   ]
  }
 ],
 "metadata": {
  "kernelspec": {
   "display_name": ".venv",
   "language": "python",
   "name": "python3"
  },
  "language_info": {
   "codemirror_mode": {
    "name": "ipython",
    "version": 3
   },
   "file_extension": ".py",
   "mimetype": "text/x-python",
   "name": "python",
   "nbconvert_exporter": "python",
   "pygments_lexer": "ipython3",
   "version": "3.12.3"
  }
 },
 "nbformat": 4,
 "nbformat_minor": 5
}
