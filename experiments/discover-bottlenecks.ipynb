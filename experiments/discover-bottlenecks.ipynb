{
 "cells": [
  {
   "cell_type": "code",
   "execution_count": null,
   "id": "be05d218",
   "metadata": {},
   "outputs": [],
   "source": [
    "from lle import LLE, WorldState, World\n",
    "import json\n",
    "import marl\n",
    "import marlenv\n",
    "import matplotlib.pyplot as plt\n",
    "import seaborn as sns\n",
    "import numpy as np\n",
    "from collections import defaultdict\n",
    "from marl.other.local_graph import LocalGraphTrainer, LocalGraphBottleneckFinder"
   ]
  },
  {
   "cell_type": "code",
   "execution_count": null,
   "id": "8c9c9552",
   "metadata": {},
   "outputs": [],
   "source": [
    "def get_bottlenecks_stats(finder: LocalGraphBottleneckFinder[WorldState]):\n",
    "    \"\"\"Project the edges on the 2D plane\"\"\"\n",
    "    vertex_bottleneck_scores = defaultdict[tuple[int, int], float](int)\n",
    "    edge_bottleneck_scores = defaultdict[tuple[WorldState, WorldState], float](int)\n",
    "    for edge, hit_count in finder.hit_count.items():\n",
    "        score = finder.predict(edge)\n",
    "        edge_bottleneck_scores[edge] += score\n",
    "        start, end = edge\n",
    "        vertices = start.agents_positions + end.agents_positions\n",
    "        for vertex in vertices:\n",
    "            vertex_bottleneck_scores[vertex] += score\n",
    "    return vertex_bottleneck_scores, edge_bottleneck_scores\n",
    "\n",
    "\n",
    "def compute_heatmap(world: World, finder: LocalGraphBottleneckFinder[WorldState]):\n",
    "    \"\"\"Compute the heatmap of the bottlenecks\"\"\"\n",
    "    vertex_scores, _ = get_bottlenecks_stats(finder)\n",
    "    heatmap = np.zeros((world.height, world.width))\n",
    "    for (i, j), score in vertex_scores.items():\n",
    "        heatmap[i, j] = score\n",
    "    return heatmap"
   ]
  },
  {
   "cell_type": "code",
   "execution_count": null,
   "id": "752fa1f9",
   "metadata": {},
   "outputs": [],
   "source": [
    "N_SEEDS = 2\n",
    "N_STEPS = 100\n",
    "\n",
    "for train_dqn in [False, True]:\n",
    "    for n_agents in range(1, 5):\n",
    "        map_name = f\"../maps/subgraph-{n_agents}agents.toml\"\n",
    "        env = LLE.from_file(map_name).obs_type(\"layered\").single_objective()\n",
    "        world = env.world\n",
    "        env = marlenv.Builder(env).agent_id().build()\n",
    "        \n",
    "        total_heatmap = np.zeros((world.height, world.width), dtype=np.float32)\n",
    "        for seed in range(N_SEEDS):\n",
    "            print(f\"Running seed {seed+1}/{N_SEEDS}\")\n",
    "            finder = LocalGraphBottleneckFinder()\n",
    "            if train_dqn:\n",
    "                qnetwork = marl.nn.model_bank.CNN.from_env(env)\n",
    "                policy = marl.policy.EpsilonGreedy.linear(1.0, 0.05, 100_000)\n",
    "                algo = marl.algo.DQN(qnetwork, policy)\n",
    "                dqn_trainer = marl.training.DQNTrainer(\n",
    "                    qnetwork,\n",
    "                    policy,\n",
    "                    marl.models.TransitionMemory(10_000),\n",
    "                    mixer=marl.algo.VDN.from_env(env),\n",
    "                    lr=1e-4,\n",
    "                    gamma=0.95,\n",
    "                    train_interval=(100, \"step\"),\n",
    "                )\n",
    "                trainer = LocalGraphTrainer(finder, world, dqn_trainer)\n",
    "                trainer = trainer.to(marl.utils.get_device())\n",
    "            else:\n",
    "                algo = None\n",
    "                trainer = LocalGraphTrainer(finder, world, None)\n",
    "            exp = marl.Experiment.create(logdir=\"logs/test\", trainer=trainer, algo=algo, n_steps=N_STEPS, test_interval=0, env=env)\n",
    "            exp.run()\n",
    "            \n",
    "            heatmap = compute_heatmap(world, finder)\n",
    "            total_heatmap += heatmap\n",
    "            filename = \"heatmap-dqn\" if train_dqn else \"heatmap\"\n",
    "            filename += f\"-{n_agents}_agents-{seed}.json\"\n",
    "            with open(filename, \"w\") as f:\n",
    "                json.dump(heatmap.tolist(), f)\n",
    "        sns.heatmap(total_heatmap)\n",
    "        img_filename = \"heatmap-dqn\" if train_dqn else \"heatmap\"\n",
    "        img_filename += f\"-{n_agents}_agents.png\"\n",
    "        plt.savefig(img_filename)\n",
    "        plt.clf()"
   ]
  },
  {
   "cell_type": "code",
   "execution_count": 1,
   "id": "d7aeea4a",
   "metadata": {},
   "outputs": [
    {
     "ename": "FileNotFoundError",
     "evalue": "[Errno 2] No such file or directory: 'logs/1-agents/heatmap-0.json'",
     "output_type": "error",
     "traceback": [
      "\u001b[0;31m---------------------------------------------------------------------------\u001b[0m",
      "\u001b[0;31mFileNotFoundError\u001b[0m                         Traceback (most recent call last)",
      "Cell \u001b[0;32mIn[1], line 7\u001b[0m\n\u001b[1;32m      5\u001b[0m \u001b[38;5;28;01mfor\u001b[39;00m i \u001b[38;5;129;01min\u001b[39;00m \u001b[38;5;28mrange\u001b[39m(\u001b[38;5;241m10\u001b[39m):\n\u001b[1;32m      6\u001b[0m     filename \u001b[38;5;241m=\u001b[39m \u001b[38;5;124mf\u001b[39m\u001b[38;5;124m\"\u001b[39m\u001b[38;5;124mlogs/1-agents/heatmap-\u001b[39m\u001b[38;5;132;01m{\u001b[39;00mi\u001b[38;5;132;01m}\u001b[39;00m\u001b[38;5;124m.json\u001b[39m\u001b[38;5;124m\"\u001b[39m\n\u001b[0;32m----> 7\u001b[0m     \u001b[38;5;28;01mwith\u001b[39;00m \u001b[38;5;28;43mopen\u001b[39;49m\u001b[43m(\u001b[49m\u001b[43mfilename\u001b[49m\u001b[43m,\u001b[49m\u001b[43m \u001b[49m\u001b[38;5;124;43m\"\u001b[39;49m\u001b[38;5;124;43mr\u001b[39;49m\u001b[38;5;124;43m\"\u001b[39;49m\u001b[43m)\u001b[49m \u001b[38;5;28;01mas\u001b[39;00m f:\n\u001b[1;32m      8\u001b[0m         heatmap \u001b[38;5;241m=\u001b[39m np\u001b[38;5;241m.\u001b[39marray(json\u001b[38;5;241m.\u001b[39mload(f))\n\u001b[1;32m      9\u001b[0m     \u001b[38;5;28;01mif\u001b[39;00m res \u001b[38;5;129;01mis\u001b[39;00m \u001b[38;5;28;01mNone\u001b[39;00m:\n",
      "File \u001b[0;32m/workspaces/marl/.venv/lib/python3.12/site-packages/IPython/core/interactiveshell.py:324\u001b[0m, in \u001b[0;36m_modified_open\u001b[0;34m(file, *args, **kwargs)\u001b[0m\n\u001b[1;32m    317\u001b[0m \u001b[38;5;28;01mif\u001b[39;00m file \u001b[38;5;129;01min\u001b[39;00m {\u001b[38;5;241m0\u001b[39m, \u001b[38;5;241m1\u001b[39m, \u001b[38;5;241m2\u001b[39m}:\n\u001b[1;32m    318\u001b[0m     \u001b[38;5;28;01mraise\u001b[39;00m \u001b[38;5;167;01mValueError\u001b[39;00m(\n\u001b[1;32m    319\u001b[0m         \u001b[38;5;124mf\u001b[39m\u001b[38;5;124m\"\u001b[39m\u001b[38;5;124mIPython won\u001b[39m\u001b[38;5;124m'\u001b[39m\u001b[38;5;124mt let you open fd=\u001b[39m\u001b[38;5;132;01m{\u001b[39;00mfile\u001b[38;5;132;01m}\u001b[39;00m\u001b[38;5;124m by default \u001b[39m\u001b[38;5;124m\"\u001b[39m\n\u001b[1;32m    320\u001b[0m         \u001b[38;5;124m\"\u001b[39m\u001b[38;5;124mas it is likely to crash IPython. If you know what you are doing, \u001b[39m\u001b[38;5;124m\"\u001b[39m\n\u001b[1;32m    321\u001b[0m         \u001b[38;5;124m\"\u001b[39m\u001b[38;5;124myou can use builtins\u001b[39m\u001b[38;5;124m'\u001b[39m\u001b[38;5;124m open.\u001b[39m\u001b[38;5;124m\"\u001b[39m\n\u001b[1;32m    322\u001b[0m     )\n\u001b[0;32m--> 324\u001b[0m \u001b[38;5;28;01mreturn\u001b[39;00m \u001b[43mio_open\u001b[49m\u001b[43m(\u001b[49m\u001b[43mfile\u001b[49m\u001b[43m,\u001b[49m\u001b[43m \u001b[49m\u001b[38;5;241;43m*\u001b[39;49m\u001b[43margs\u001b[49m\u001b[43m,\u001b[49m\u001b[43m \u001b[49m\u001b[38;5;241;43m*\u001b[39;49m\u001b[38;5;241;43m*\u001b[39;49m\u001b[43mkwargs\u001b[49m\u001b[43m)\u001b[49m\n",
      "\u001b[0;31mFileNotFoundError\u001b[0m: [Errno 2] No such file or directory: 'logs/1-agents/heatmap-0.json'"
     ]
    }
   ],
   "source": [
    "import json\n",
    "import numpy as np\n",
    "\n",
    "res = None\n",
    "for i in range(10):\n",
    "    filename = f\"logs/1-agents/heatmap-{i}.json\"\n",
    "    with open(filename, \"r\") as f:\n",
    "        heatmap = np.array(json.load(f))\n",
    "    if res is None:\n",
    "        res = heatmap\n",
    "    else:\n",
    "        res += heatmap\n",
    "sns.heatmap(res)\n"
   ]
  }
 ],
 "metadata": {
  "kernelspec": {
   "display_name": ".venv",
   "language": "python",
   "name": "python3"
  },
  "language_info": {
   "codemirror_mode": {
    "name": "ipython",
    "version": 3
   },
   "file_extension": ".py",
   "mimetype": "text/x-python",
   "name": "python",
   "nbconvert_exporter": "python",
   "pygments_lexer": "ipython3",
   "version": "3.12.5"
  }
 },
 "nbformat": 4,
 "nbformat_minor": 5
}
