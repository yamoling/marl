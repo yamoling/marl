{
 "cells": [
  {
   "cell_type": "code",
   "execution_count": 1,
   "id": "be05d218",
   "metadata": {},
   "outputs": [],
   "source": [
    "from lle import LLE, Action, WorldState\n",
    "import marl\n",
    "import marlenv\n",
    "import matplotlib.pyplot as plt\n",
    "import seaborn as sns\n",
    "import numpy as np\n",
    "from marl.other.local_graph import LocalGraphTrainer, LocalGraphBottleneckFinder"
   ]
  },
  {
   "cell_type": "code",
   "execution_count": 4,
   "id": "752fa1f9",
   "metadata": {},
   "outputs": [
    {
     "name": "stderr",
     "output_type": "stream",
     "text": [
      "Training:   0%|          | 0/100000 [00:00<?, ?Step/s]"
     ]
    },
    {
     "name": "stdout",
     "output_type": "stream",
     "text": [
      "Time step 1000\n",
      "Time step 2000\n",
      "Time step 3000\n",
      "Time step 4000\n",
      "Time step 5000\n",
      "Time step 6000\n",
      "Time step 7000\n",
      "Time step 8000\n"
     ]
    },
    {
     "name": "stderr",
     "output_type": "stream",
     "text": [
      "Training:   8%|▊         | 8113/100000 [00:21<04:07, 370.97Step/s]"
     ]
    },
    {
     "name": "stdout",
     "output_type": "stream",
     "text": [
      "Time step 9000\n",
      "Time step 10000\n"
     ]
    },
    {
     "name": "stderr",
     "output_type": "stream",
     "text": [
      "Training:  11%|█         | 10724/100000 [00:24<03:07, 474.95Step/s]"
     ]
    },
    {
     "name": "stdout",
     "output_type": "stream",
     "text": [
      "Time step 11000\n",
      "Time step 12000\n",
      "Time step 13000\n",
      "Time step 14000\n",
      "Time step 15000\n",
      "Time step 16000\n",
      "Time step 17000\n",
      "Time step 18000\n",
      "Time step 19000\n",
      "Time step 20000\n",
      "Time step 21000\n",
      "Time step 22000\n",
      "Time step 23000\n",
      "Time step 24000\n"
     ]
    },
    {
     "name": "stderr",
     "output_type": "stream",
     "text": [
      "Training:  24%|██▍       | 24168/100000 [00:26<00:58, 1291.64Step/s]"
     ]
    },
    {
     "name": "stdout",
     "output_type": "stream",
     "text": [
      "Time step 25000\n",
      "Time step 26000\n",
      "Time step 27000\n",
      "Time step 28000\n"
     ]
    },
    {
     "name": "stderr",
     "output_type": "stream",
     "text": [
      "Training:  28%|██▊       | 28361/100000 [00:34<01:13, 973.89Step/s] "
     ]
    },
    {
     "name": "stdout",
     "output_type": "stream",
     "text": [
      "Time step 29000\n",
      "Time step 30000\n",
      "Time step 31000\n",
      "Time step 32000\n",
      "Time step 33000\n",
      "Time step 34000\n"
     ]
    },
    {
     "name": "stderr",
     "output_type": "stream",
     "text": [
      "Training:  34%|███▍      | 34142/100000 [00:40<01:09, 951.18Step/s]"
     ]
    },
    {
     "name": "stdout",
     "output_type": "stream",
     "text": [
      "Time step 35000\n"
     ]
    },
    {
     "name": "stderr",
     "output_type": "stream",
     "text": [
      "Training:  35%|███▌      | 35334/100000 [00:41<01:05, 982.40Step/s]"
     ]
    },
    {
     "name": "stdout",
     "output_type": "stream",
     "text": [
      "Time step 36000\n",
      "Time step 37000\n",
      "Time step 38000\n"
     ]
    },
    {
     "name": "stderr",
     "output_type": "stream",
     "text": [
      "Training:  39%|███▊      | 38502/100000 [00:42<00:52, 1165.79Step/s]"
     ]
    },
    {
     "name": "stdout",
     "output_type": "stream",
     "text": [
      "Time step 39000\n",
      "Time step 40000\n",
      "Time step 41000\n",
      "Time step 42000\n"
     ]
    },
    {
     "name": "stderr",
     "output_type": "stream",
     "text": [
      "Training:  42%|████▏     | 42230/100000 [00:43<00:36, 1581.69Step/s]"
     ]
    },
    {
     "name": "stdout",
     "output_type": "stream",
     "text": [
      "Time step 43000\n",
      "Time step 44000\n",
      "Time step 45000\n",
      "Time step 46000\n",
      "Time step 47000\n",
      "Time step 48000\n",
      "Time step 49000\n",
      "Time step 50000\n"
     ]
    },
    {
     "name": "stderr",
     "output_type": "stream",
     "text": [
      "Training:  50%|█████     | 50135/100000 [00:43<00:18, 2658.52Step/s]"
     ]
    },
    {
     "name": "stdout",
     "output_type": "stream",
     "text": [
      "Time step 51000\n",
      "Time step 52000\n",
      "Time step 53000\n",
      "Time step 54000\n"
     ]
    },
    {
     "name": "stderr",
     "output_type": "stream",
     "text": [
      "Training:  55%|█████▍    | 54787/100000 [01:12<01:30, 501.76Step/s] "
     ]
    },
    {
     "name": "stdout",
     "output_type": "stream",
     "text": [
      "Time step 55000\n",
      "Time step 56000\n",
      "Time step 57000\n",
      "Time step 58000\n"
     ]
    },
    {
     "name": "stderr",
     "output_type": "stream",
     "text": [
      "Training:  59%|█████▊    | 58692/100000 [01:13<01:04, 642.99Step/s]"
     ]
    },
    {
     "name": "stdout",
     "output_type": "stream",
     "text": [
      "Time step 59000\n",
      "Time step 60000\n",
      "Time step 61000\n",
      "Time step 62000\n",
      "Time step 63000\n",
      "Time step 64000\n",
      "Time step 65000\n",
      "Time step 66000\n",
      "Time step 67000\n",
      "Time step 68000\n",
      "Time step 69000\n",
      "Time step 70000\n",
      "Time step 71000\n",
      "Time step 72000\n",
      "Time step 73000\n",
      "Time step 74000\n",
      "Time step 75000\n",
      "Time step 76000\n",
      "Time step 77000\n",
      "Time step 78000\n",
      "Time step 79000\n",
      "Time step 80000\n",
      "Time step 81000\n",
      "Time step 82000\n",
      "Time step 83000\n"
     ]
    },
    {
     "name": "stderr",
     "output_type": "stream",
     "text": [
      "Training:  84%|████████▎ | 83730/100000 [02:38<00:46, 352.05Step/s]"
     ]
    },
    {
     "name": "stdout",
     "output_type": "stream",
     "text": [
      "Time step 84000\n",
      "Time step 85000\n",
      "Time step 86000\n"
     ]
    },
    {
     "name": "stderr",
     "output_type": "stream",
     "text": [
      "Training:  87%|████████▋ | 86792/100000 [02:39<00:33, 389.99Step/s]"
     ]
    },
    {
     "name": "stdout",
     "output_type": "stream",
     "text": [
      "Time step 87000\n",
      "Time step 88000\n",
      "Time step 89000\n",
      "Time step 90000\n",
      "Time step 91000\n"
     ]
    },
    {
     "name": "stderr",
     "output_type": "stream",
     "text": [
      "Training:  92%|█████████▏| 91720/100000 [02:39<00:17, 483.38Step/s]"
     ]
    },
    {
     "name": "stdout",
     "output_type": "stream",
     "text": [
      "Time step 92000\n",
      "Time step 93000\n",
      "Time step 94000\n",
      "Time step 95000\n"
     ]
    },
    {
     "name": "stderr",
     "output_type": "stream",
     "text": [
      "Training:  95%|█████████▌| 95269/100000 [02:41<00:08, 546.78Step/s]"
     ]
    },
    {
     "name": "stdout",
     "output_type": "stream",
     "text": [
      "Time step 96000\n",
      "Time step 97000\n",
      "Time step 98000\n",
      "Time step 99000\n",
      "Time step 100000\n"
     ]
    },
    {
     "name": "stderr",
     "output_type": "stream",
     "text": [
      "Training: 100%|██████████| 100000/100000 [02:48<00:00, 593.16Step/s]\n"
     ]
    }
   ],
   "source": [
    "map_name = \"maps/subgraph-2agents.toml\"\n",
    "# map_name = \"maps/subgraph-1agent.toml\"\n",
    "env = LLE.from_file(map_name).obs_type(\"layered\").single_objective()\n",
    "world = env.world\n",
    "if env.n_agents == 1:\n",
    "    mask = np.full((env.n_agents, env.n_actions), True)\n",
    "    mask[:, Action.STAY.value] = False\n",
    "    env = marlenv.Builder(env).mask_actions(mask).build()\n",
    "\n",
    "qnetwork = marl.nn.model_bank.CNN.from_env(env)\n",
    "policy = marl.policy.EpsilonGreedy.linear(1.0, 0.05, 100_000)\n",
    "algo = marl.algo.DQN(qnetwork, policy)\n",
    "dqn_trainer = marl.training.DQNTrainer(\n",
    "    qnetwork,\n",
    "    policy,\n",
    "    marl.models.TransitionMemory(10_000),\n",
    "    mixer=marl.algo.VDN.from_env(env),\n",
    "    lr=1e-4,\n",
    "    gamma=0.95,\n",
    "    train_interval=(100, \"step\"),\n",
    ")\n",
    "\n",
    "\n",
    "finder = LocalGraphBottleneckFinder()\n",
    "trainer = LocalGraphTrainer(finder, world, None)\n",
    "exp = marl.Experiment.create(logdir=\"logs/test\", trainer=trainer, n_steps=100_000, test_interval=0, env=env)\n",
    "exp.run()"
   ]
  },
  {
   "cell_type": "code",
   "execution_count": 5,
   "id": "8c9c9552",
   "metadata": {},
   "outputs": [
    {
     "data": {
      "image/png": "[encoded data removed]",
      "text/plain": [
       "<Figure size 640x480 with 2 Axes>"
      ]
     },
     "metadata": {},
     "output_type": "display_data"
    }
   ],
   "source": [
    "from collections import defaultdict\n",
    "\n",
    "def get_bottlenecks_stats(finder: LocalGraphBottleneckFinder[WorldState]):\n",
    "    \"\"\"Project the edges on the 2D plane\"\"\"\n",
    "    vertex_bottleneck_scores = defaultdict[tuple[int, int], float](int)\n",
    "    edge_bottleneck_scores = defaultdict[tuple[WorldState, WorldState], float](int)\n",
    "    for edge, hit_count in finder.hit_count.items():\n",
    "        score = finder.predict(edge)\n",
    "        edge_bottleneck_scores[edge] += score\n",
    "        start, end = edge\n",
    "        vertices = start.agents_positions + end.agents_positions\n",
    "        for vertex in vertices:\n",
    "            vertex_bottleneck_scores[vertex] += score\n",
    "    return vertex_bottleneck_scores, edge_bottleneck_scores\n",
    "\n",
    "\n",
    "def compute_heatmap(finder: LocalGraphBottleneckFinder[WorldState]):\n",
    "    \"\"\"Compute the heatmap of the bottlenecks\"\"\"\n",
    "    vertex_scores, _ = get_bottlenecks_stats(finder)\n",
    "    heatmap = np.zeros((world.height, world.width))\n",
    "    for (i, j), score in vertex_scores.items():\n",
    "        heatmap[i, j] = score\n",
    "    return heatmap\n",
    "\n",
    "scores_heatmap = np.zeros((world.height, world.width), dtype=np.float32)\n",
    "scores_heatmap += compute_heatmap(finder)\n",
    "sns.heatmap(scores_heatmap)\n",
    "plt.show()\n"
   ]
  }
 ],
 "metadata": {
  "kernelspec": {
   "display_name": ".venv",
   "language": "python",
   "name": "python3"
  },
  "language_info": {
   "codemirror_mode": {
    "name": "ipython",
    "version": 3
   },
   "file_extension": ".py",
   "mimetype": "text/x-python",
   "name": "python",
   "nbconvert_exporter": "python",
   "pygments_lexer": "ipython3",
   "version": "3.12.3"
  }
 },
 "nbformat": 4,
 "nbformat_minor": 5
}
